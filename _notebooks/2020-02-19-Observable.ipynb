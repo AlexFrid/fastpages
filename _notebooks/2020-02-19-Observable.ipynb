{
 "cells": [
  {
   "cell_type": "markdown",
   "metadata": {},
   "source": [
    "# Interactive Visualizations With Observable\n",
    "> A demo of using snippets from Observable in fastpages\n",
    "- comments: true\n",
    "- author: Hamel Husain\n",
    "- categories: [fastpages, jupyter]"
   ]
  },
  {
   "cell_type": "markdown",
   "metadata": {},
   "source": [
    "This demonstrates another way to inject interactive charts into fastpages, [similar to what we demonstrated with Altair](http://localhost:4000/jupyter/2020/02/20/test.html#Interactive-Charts-With-Altair), using javascript visualization libraries.\n",
    "\n",
    "You can embed visualizations made with [Observable](https://observablehq.com/) by using the methodology is defined in this tutorial: [\"Observable for Jupyter Users\"](https://observablehq.com/@observablehq/visualize-a-data-frame-with-observable-in-jupyter).  \n",
    "\n",
    "Warning: This page may several seconds to load.  The more data you embed in your charts, the longer a page may take to load."
   ]
  },
  {
   "cell_type": "code",
   "execution_count": 16,
   "metadata": {},
   "outputs": [
    {
     "data": {
      "text/html": [
       "<div id=\"observablehq-b9a930e6\"></div>\n",
       "<script type=\"module\">\n",
       "import {Runtime, Inspector} from \"https://cdn.jsdelivr.net/npm/@observablehq/runtime@4/dist/runtime.js\";\n",
       "import define from \"https://api.observablehq.com/d/eceaa744227c4fea.js?v=3\";\n",
       "const inspect = Inspector.into(\"#observablehq-b9a930e6\");\n",
       "(new Runtime).module(define, name => (\n",
       "  name === \"vegaPetalsWidget\" ||\n",
       "  name === 'viewof sepalLengthLimits' ||\n",
       "  name === 'viewof sepalWidthLimits') && inspect());\n",
       "</script>\n"
      ],
      "text/plain": [
       "<IPython.core.display.HTML object>"
      ]
     },
     "metadata": {},
     "output_type": "display_data"
    }
   ],
   "source": [
    "# show-collapse\n",
    "from IPython.display import display, HTML\n",
    "embed = \"\"\"<div id=\"observablehq-b9a930e6\"></div>\n",
    "<script type=\"module\">\n",
    "import {Runtime, Inspector} from \"https://cdn.jsdelivr.net/npm/@observablehq/runtime@4/dist/runtime.js\";\n",
    "import define from \"https://api.observablehq.com/d/eceaa744227c4fea.js?v=3\";\n",
    "const inspect = Inspector.into(\"#observablehq-b9a930e6\");\n",
    "(new Runtime).module(define, name => (\n",
    "  name === \"vegaPetalsWidget\" ||\n",
    "  name === 'viewof sepalLengthLimits' ||\n",
    "  name === 'viewof sepalWidthLimits') && inspect());\n",
    "</script>\n",
    "\"\"\"\n",
    "display(HTML(embed))"
   ]
  },
  {
   "cell_type": "markdown",
   "metadata": {},
   "source": [
    "## Further Reading\n",
    "\n",
    "The [uwdata/visualization-curriculum](https://github.com/uwdata/visualization-curriculum) repo is a great place to learn more about creating visualizations with Observable and Altair."
   ]
  }
 ],
 "metadata": {
  "kernelspec": {
   "display_name": "Python 3",
   "language": "python",
   "name": "python3"
  },
  "language_info": {
   "codemirror_mode": {
    "name": "ipython",
    "version": 3
   },
   "file_extension": ".py",
   "mimetype": "text/x-python",
   "name": "python",
   "nbconvert_exporter": "python",
   "pygments_lexer": "ipython3",
   "version": "3.7.4"
  }
 },
 "nbformat": 4,
 "nbformat_minor": 4
}
